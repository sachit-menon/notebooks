{
 "cells": [
  {
   "cell_type": "markdown",
   "metadata": {},
   "source": [
    "All discussion here will be in relation to the code for the traditional autoencoder, seen in this [ADD LINK] post."
   ]
  },
  {
   "cell_type": "code",
   "execution_count": 1,
   "metadata": {
    "ExecuteTime": {
     "end_time": "2018-11-23T09:22:04.585392Z",
     "start_time": "2018-11-23T09:22:03.735936Z"
    }
   },
   "outputs": [],
   "source": [
    "# imports\n",
    "import numpy as np\n",
    "\n",
    "%matplotlib inline\n",
    "import matplotlib.pyplot as plt\n",
    "import seaborn as sns\n",
    "sns.set(style='whitegrid')\n",
    "\n",
    "import torch\n",
    "from torch import nn\n",
    "import torch.nn.functional as F\n",
    "import torch.optim as optim\n",
    "from torchvision import datasets, transforms\n",
    "\n",
    "torch.manual_seed(42); # set seed for consistent results"
   ]
  },
  {
   "cell_type": "markdown",
   "metadata": {},
   "source": [
    "As in the traditional autoencoder, we must specify the dimensions of the code -- here, this will correspond to the dimension of both the mean $\\mu$ and variance $\\sigma^2$ vectors."
   ]
  },
  {
   "cell_type": "code",
   "execution_count": 2,
   "metadata": {
    "ExecuteTime": {
     "end_time": "2018-11-23T09:22:04.591342Z",
     "start_time": "2018-11-23T09:22:04.588579Z"
    }
   },
   "outputs": [],
   "source": [
    "input_dimensions = 784\n",
    "code_dimensions = 32"
   ]
  },
  {
   "cell_type": "markdown",
   "metadata": {},
   "source": [
    "We're going to update our definitions for the encoder and decoder network classes. The encoder network must now yield both a mean and variance vector, while the structure of the decoder network can remain relatively unchanged. (We will actually have the encoder compute the log-variance rather than the variance directly as this lets us our network output negative values; once we exponentiate these to find the proper variance, we are guaranteed to end up with positive values as desired.)"
   ]
  },
  {
   "cell_type": "code",
   "execution_count": 3,
   "metadata": {
    "ExecuteTime": {
     "end_time": "2018-11-23T09:22:04.599516Z",
     "start_time": "2018-11-23T09:22:04.593169Z"
    }
   },
   "outputs": [],
   "source": [
    "class Encoder(nn.Module):\n",
    "    \"\"\"\n",
    "    Encoder class for variational autoencoder. Takes in data of dimension `input_dimensions`, \n",
    "    conducts some transformation, and outputs the resulting code consisting of two vectors of dimension `code_dimensions`,\n",
    "    the mean and log-variance vectors.  \n",
    "    \"\"\"\n",
    "    def __init__(self, input_dimensions: int, code_dimensions: int):\n",
    "        super(Encoder, self).__init__()\n",
    "        self.fc1 = nn.Linear(input_dimensions, (input_dimensions+code_dimensions)//2)\n",
    "        self.fc2mean = nn.Linear((input_dimensions+code_dimensions)//2, code_dimensions)\n",
    "        self.fc2logvar = nn.Linear((input_dimensions+code_dimensions)//2, code_dimensions)\n",
    "        \n",
    "    def forward(self, x: torch.Tensor):\n",
    "        hidden1 = F.relu(self.fc1(x))\n",
    "        code_mean = self.fc2mean(hidden1)\n",
    "        code_logvar = self.fc2logvar(hidden1)\n",
    "        return code_mean, code_logvar"
   ]
  },
  {
   "cell_type": "code",
   "execution_count": 4,
   "metadata": {
    "ExecuteTime": {
     "end_time": "2018-11-23T09:22:04.608462Z",
     "start_time": "2018-11-23T09:22:04.602607Z"
    }
   },
   "outputs": [],
   "source": [
    "class Decoder(nn.Module):\n",
    "    \"\"\"\n",
    "    Decoder class for variational autoencoder. Takes in code sample of dimension `code_dimensions`, \n",
    "    conducts some transformation, and outputs the resulting output of dimension `input_dimensions`.\n",
    "    \"\"\"\n",
    "    def __init__(self, code_dimensions: int, input_dimensions: int):\n",
    "        super(Decoder, self).__init__()\n",
    "        self.fc1 = nn.Linear(code_dimensions, (input_dimensions+code_dimensions)//2)\n",
    "        self.fc2 = nn.Linear((input_dimensions+code_dimensions)//2, input_dimensions)\n",
    "    def forward(self, x: torch.Tensor):\n",
    "        hidden1 = F.relu(self.fc1(x))\n",
    "        output = torch.sigmoid(self.fc2(hidden1))\n",
    "        return output"
   ]
  },
  {
   "cell_type": "markdown",
   "metadata": {},
   "source": [
    "To construct the full VAE, we concatenate the encoder and decoder networks (as with the traditional autoencoder), but with the added step of conducting the reparametrization trick in between."
   ]
  },
  {
   "cell_type": "code",
   "execution_count": 5,
   "metadata": {
    "ExecuteTime": {
     "end_time": "2018-11-23T09:22:04.617362Z",
     "start_time": "2018-11-23T09:22:04.611414Z"
    }
   },
   "outputs": [],
   "source": [
    "class VAE(nn.Module):\n",
    "    \"\"\"\n",
    "    Class for variational autoencoder. Composite of Encoder and Decoder classes above, with the \n",
    "    reparametrization trick in between to allow for backpropagation through a stochastic process.\n",
    "    \"\"\"\n",
    "    def __init__(self, input_dimensions: int, code_dimensions: int):\n",
    "        super(VAE, self).__init__()\n",
    "        self.encode = Encoder(input_dimensions, code_dimensions)\n",
    "        self.decode = Decoder(code_dimensions, input_dimensions)\n",
    "        \n",
    "    def reparametrize(self, mean: torch.Tensor, logvar: torch.Tensor):\n",
    "        std_dev = torch.exp(0.5*logvar) # calculate the standard deviation for scaling\n",
    "        epsilon = torch.randn_like(std_dev) # draw vector of dimension `code_dimensions` from standard normal\n",
    "        return mean + epsilon*std_dev # return vector scaled by standard deviation and translated by mean\n",
    "        \n",
    "    def forward(self, x: torch.Tensor):\n",
    "        code_mean, code_logvar = self.encode(x) # from input to parametrized distribution...\n",
    "        sample = self.reparametrize(code_mean, code_logvar) # sample with reparametrization trick\n",
    "        output = self.decode(sample)\n",
    "        return output, code_mean, code_logvar"
   ]
  },
  {
   "cell_type": "markdown",
   "metadata": {},
   "source": [
    "But we aren't done yet. We're still missing an integral part of the VAE framework: the new objective function. This is composed of the reconstruction error analogous to the original autoencoder loss (for which we'll use cross-entropy loss) and the KL-divergence term describing how far our code distributions are from unit Gaussians. Conveniently, the VAE paper gives us a closed form for this instance of it (more generally, we would use `torch.distributions`, but for this simple example we have no need)."
   ]
  },
  {
   "cell_type": "code",
   "execution_count": 6,
   "metadata": {
    "ExecuteTime": {
     "end_time": "2018-11-23T09:22:04.623323Z",
     "start_time": "2018-11-23T09:22:04.619198Z"
    }
   },
   "outputs": [],
   "source": [
    "def kl_divergence(mean: torch.Tensor, logvar: torch.Tensor):\n",
    "    '''\n",
    "    Takes as input two `code_dimension`-dimensional vectors representing the mean and log-variance \n",
    "    of a Gaussian distribution and outputs the (negative) KL-divergence of this with the unit Gaussian.\n",
    "    '''\n",
    "    return -0.5 * torch.sum(1 + logvar - torch.pow(mean, 2) - torch.exp(logvar))"
   ]
  },
  {
   "cell_type": "code",
   "execution_count": 7,
   "metadata": {
    "ExecuteTime": {
     "end_time": "2018-11-23T09:22:04.629274Z",
     "start_time": "2018-11-23T09:22:04.625077Z"
    }
   },
   "outputs": [],
   "source": [
    "def variational_lowerbound(input_data: torch.Tensor, output_data: torch.Tensor,\n",
    "                           code_mean: torch.Tensor, code_logvar: torch.Tensor):\n",
    "    '''\n",
    "    Returns variational lower-bound (aka evidence lower-bound) for a VAE \n",
    "    given input data, a proposed reconstruction, and the code distributions.\n",
    "    '''\n",
    "#     print('output shape:', output_data.shape, 'input_shape:', input_data.shape)\n",
    "    reconstruction_loss = F.binary_cross_entropy(output_data, input_data, reduction='sum')\n",
    "    kl_loss = kl_divergence(code_mean, code_logvar)\n",
    "    return reconstruction_loss + kl_loss"
   ]
  },
  {
   "cell_type": "markdown",
   "metadata": {},
   "source": [
    "Now we're almost ready to train!"
   ]
  },
  {
   "cell_type": "markdown",
   "metadata": {},
   "source": [
    "Going through some miscellaneous setup: "
   ]
  },
  {
   "cell_type": "code",
   "execution_count": 8,
   "metadata": {
    "ExecuteTime": {
     "end_time": "2018-11-23T09:22:04.656170Z",
     "start_time": "2018-11-23T09:22:04.631180Z"
    }
   },
   "outputs": [],
   "source": [
    "# use gpu if available\n",
    "device = torch.device('cuda') if torch.cuda.is_available() else torch.device('cpu')"
   ]
  },
  {
   "cell_type": "code",
   "execution_count": 9,
   "metadata": {
    "ExecuteTime": {
     "end_time": "2018-11-23T09:22:04.661165Z",
     "start_time": "2018-11-23T09:22:04.657908Z"
    }
   },
   "outputs": [],
   "source": [
    "# some hyperparameters\n",
    "batch_sz = 32\n",
    "test_batch_sz = 100\n",
    "\n",
    "learning_rate = 10**(-3)\n",
    "\n",
    "n_epochs = 10"
   ]
  },
  {
   "cell_type": "code",
   "execution_count": 10,
   "metadata": {
    "ExecuteTime": {
     "end_time": "2018-11-23T09:22:04.667372Z",
     "start_time": "2018-11-23T09:22:04.662736Z"
    }
   },
   "outputs": [],
   "source": [
    "# set dataloader kwargs\n",
    "kwargs = {'num_workers': 1, 'pin_memory':True} if torch.cuda.is_available() else {}"
   ]
  },
  {
   "cell_type": "code",
   "execution_count": 11,
   "metadata": {
    "ExecuteTime": {
     "end_time": "2018-11-23T09:22:04.672289Z",
     "start_time": "2018-11-23T09:22:04.668936Z"
    }
   },
   "outputs": [],
   "source": [
    "# preprocessing\n",
    "img_transform = transforms.Compose([\n",
    "    transforms.ToTensor()\n",
    "#     transforms.Normalize((0.5, 0.5, 0.5), (0.5, 0.5, 0.5))\n",
    "])"
   ]
  },
  {
   "cell_type": "code",
   "execution_count": 12,
   "metadata": {
    "ExecuteTime": {
     "end_time": "2018-11-23T09:22:04.707034Z",
     "start_time": "2018-11-23T09:22:04.674067Z"
    }
   },
   "outputs": [],
   "source": [
    "# create dataloaders to serve up MNIST images as example data -- see MNIST example in the official documentation \n",
    "train_loader = torch.utils.data.DataLoader(\n",
    "    datasets.MNIST('../data', train=True, download=True, transform= img_transform),\n",
    "    batch_size=batch_sz,\n",
    "    shuffle=True,\n",
    "    **kwargs\n",
    ")"
   ]
  },
  {
   "cell_type": "code",
   "execution_count": 13,
   "metadata": {
    "ExecuteTime": {
     "end_time": "2018-11-23T09:22:04.717808Z",
     "start_time": "2018-11-23T09:22:04.709114Z"
    }
   },
   "outputs": [],
   "source": [
    "test_loader = torch.utils.data.DataLoader(\n",
    "    datasets.MNIST('../data', train=False, download=True, transform=img_transform),\n",
    "    batch_size=test_batch_sz,\n",
    "    shuffle=True,\n",
    "    **kwargs\n",
    ")"
   ]
  },
  {
   "cell_type": "markdown",
   "metadata": {},
   "source": [
    "Setting up the model and initializing the Adam optimizer,"
   ]
  },
  {
   "cell_type": "code",
   "execution_count": 14,
   "metadata": {
    "ExecuteTime": {
     "end_time": "2018-11-23T09:22:07.033125Z",
     "start_time": "2018-11-23T09:22:04.719472Z"
    }
   },
   "outputs": [],
   "source": [
    "model = VAE(input_dimensions, code_dimensions).to(device)\n",
    "optimizer = optim.Adam(model.parameters(), lr=learning_rate)"
   ]
  },
  {
   "cell_type": "code",
   "execution_count": 15,
   "metadata": {
    "ExecuteTime": {
     "end_time": "2018-11-23T09:22:07.044669Z",
     "start_time": "2018-11-23T09:22:07.035919Z"
    }
   },
   "outputs": [],
   "source": [
    "def train(model: nn.Module, optimizer: torch.optim.Optimizer, device: torch.device, \n",
    "          train_loader: torch.utils.data.dataloader.DataLoader, epoch: int):\n",
    "    \"\"\"\n",
    "    Executes one epoch of training given model, optimizer, device, dataloader, and epoch number.\n",
    "    \"\"\"\n",
    "    model.train()\n",
    "    for batch_idx, (inp, label) in enumerate(train_loader):\n",
    "        inp = inp.view(-1, input_dimensions)\n",
    "        inp = inp.to(device) \n",
    "        output, code_mean, code_logvar = model(inp) # here we put the input image through the VAE\n",
    "        loss = variational_lowerbound(inp, output, code_mean, code_logvar)\n",
    "        \n",
    "        # good to check that our values are still sane and nothing has gone horribly wrong\n",
    "        if torch.isnan(loss).any() or loss.item() == np.inf or loss.item() == -np.inf:\n",
    "            print('Gradient vanished/exploded')\n",
    "            raise Exception('Died')\n",
    "            break\n",
    "        \n",
    "        loss.backward() # compute gradients\n",
    "        optimizer.step() # conduct step of gradient descent\n",
    "        optimizer.zero_grad() # zero out gradients to avoid messing with future iterations\n",
    "        \n",
    "        if batch_idx % 1000 == 0:\n",
    "            print('Train Epoch: {} [{}/{} ({:.0f}%)]\\tLoss: {:.6f}'.format(\n",
    "                epoch, batch_idx * len(inp), len(train_loader.dataset),\n",
    "                100. * batch_idx / len(train_loader), loss.item()))"
   ]
  },
  {
   "cell_type": "code",
   "execution_count": 16,
   "metadata": {
    "ExecuteTime": {
     "end_time": "2018-11-23T09:22:07.053485Z",
     "start_time": "2018-11-23T09:22:07.047161Z"
    }
   },
   "outputs": [],
   "source": [
    "def test(model: nn.Module, device: torch.device, test_loader: torch.utils.data.dataloader.DataLoader, epoch: int):\n",
    "    \"\"\"\n",
    "    Computes error on test set given a model, device, dataloader, and epoch number.\n",
    "    \"\"\"\n",
    "    model.eval()\n",
    "    test_loss = 0\n",
    "    with torch.no_grad():\n",
    "        for batch_idx, (inp, label) in enumerate(test_loader):\n",
    "            inp = inp.view(-1, input_dimensions)\n",
    "            inp = inp.to(device)\n",
    "            output, code_mean, code_logvar = model(inp)\n",
    "            test_loss += variational_lowerbound(inp, output, code_mean, code_logvar)\n",
    "    \n",
    "    test_loss /= len(test_loader.dataset)\n",
    "    print('\\nTest set: Average loss: {:.4f}\\n'.format(test_loss))"
   ]
  },
  {
   "cell_type": "code",
   "execution_count": 17,
   "metadata": {
    "ExecuteTime": {
     "end_time": "2018-11-23T09:23:40.755988Z",
     "start_time": "2018-11-23T09:22:07.055358Z"
    }
   },
   "outputs": [
    {
     "name": "stdout",
     "output_type": "stream",
     "text": [
      "Train Epoch: 1 [0/60000 (0%)]\tLoss: 17584.925781\n",
      "Train Epoch: 1 [32000/60000 (53%)]\tLoss: 4101.734863\n",
      "\n",
      "Test set: Average loss: 116.2248\n",
      "\n",
      "Train Epoch: 2 [0/60000 (0%)]\tLoss: 3681.470703\n",
      "Train Epoch: 2 [32000/60000 (53%)]\tLoss: 3519.761719\n",
      "\n",
      "Test set: Average loss: 110.8681\n",
      "\n",
      "Train Epoch: 3 [0/60000 (0%)]\tLoss: 3543.985352\n",
      "Train Epoch: 3 [32000/60000 (53%)]\tLoss: 3235.022949\n",
      "\n",
      "Test set: Average loss: 108.4604\n",
      "\n",
      "Train Epoch: 4 [0/60000 (0%)]\tLoss: 3841.058838\n",
      "Train Epoch: 4 [32000/60000 (53%)]\tLoss: 3662.301270\n",
      "\n",
      "Test set: Average loss: 107.3888\n",
      "\n",
      "Train Epoch: 5 [0/60000 (0%)]\tLoss: 3051.623291\n",
      "Train Epoch: 5 [32000/60000 (53%)]\tLoss: 3232.370850\n",
      "\n",
      "Test set: Average loss: 106.8985\n",
      "\n",
      "Train Epoch: 6 [0/60000 (0%)]\tLoss: 3346.608643\n",
      "Train Epoch: 6 [32000/60000 (53%)]\tLoss: 3394.134033\n",
      "\n",
      "Test set: Average loss: 106.2145\n",
      "\n",
      "Train Epoch: 7 [0/60000 (0%)]\tLoss: 3452.067627\n",
      "Train Epoch: 7 [32000/60000 (53%)]\tLoss: 3244.714844\n",
      "\n",
      "Test set: Average loss: 105.7724\n",
      "\n",
      "Train Epoch: 8 [0/60000 (0%)]\tLoss: 3192.741455\n",
      "Train Epoch: 8 [32000/60000 (53%)]\tLoss: 3323.556396\n",
      "\n",
      "Test set: Average loss: 105.6246\n",
      "\n",
      "Train Epoch: 9 [0/60000 (0%)]\tLoss: 3481.543457\n",
      "Train Epoch: 9 [32000/60000 (53%)]\tLoss: 3432.222656\n",
      "\n",
      "Test set: Average loss: 105.3194\n",
      "\n",
      "Train Epoch: 10 [0/60000 (0%)]\tLoss: 3492.939941\n",
      "Train Epoch: 10 [32000/60000 (53%)]\tLoss: 3406.887451\n",
      "\n",
      "Test set: Average loss: 105.3271\n",
      "\n"
     ]
    }
   ],
   "source": [
    "for epoch in range(1, n_epochs+1):\n",
    "    train(model, optimizer, device, train_loader, epoch)\n",
    "    test(model, device, test_loader, epoch)"
   ]
  },
  {
   "cell_type": "code",
   "execution_count": 43,
   "metadata": {
    "ExecuteTime": {
     "end_time": "2018-11-23T09:38:28.210366Z",
     "start_time": "2018-11-23T09:38:28.205848Z"
    }
   },
   "outputs": [],
   "source": [
    "def generate_vae_samples(n: int):\n",
    "    '''\n",
    "    Function for generating n samples from the trained VAE. Currently, plots first of the n.\n",
    "    '''\n",
    "    noise_sample = torch.randn(n, code_dimensions).to(device)\n",
    "    sample = model.decode(noise_sample)\n",
    "    plt.imshow(sample.data.view(n,28,28).cpu().detach().numpy()[0], cmap='Greys_r')"
   ]
  },
  {
   "cell_type": "code",
   "execution_count": 76,
   "metadata": {
    "ExecuteTime": {
     "end_time": "2018-11-23T09:39:21.535201Z",
     "start_time": "2018-11-23T09:39:21.384099Z"
    }
   },
   "outputs": [
    {
     "data": {
      "image/png": "[encoded data removed]",
      "text/plain": [
       "<Figure size 432x288 with 1 Axes>"
      ]
     },
     "metadata": {
      "needs_background": "light"
     },
     "output_type": "display_data"
    }
   ],
   "source": [
    "generate_vae_samples(1)"
   ]
  },
  {
   "cell_type": "code",
   "execution_count": null,
   "metadata": {},
   "outputs": [],
   "source": []
  }
 ],
 "metadata": {
  "kernelspec": {
   "display_name": "Python 3",
   "language": "python",
   "name": "python3"
  },
  "language_info": {
   "codemirror_mode": {
    "name": "ipython",
    "version": 3
   },
   "file_extension": ".py",
   "mimetype": "text/x-python",
   "name": "python",
   "nbconvert_exporter": "python",
   "pygments_lexer": "ipython3",
   "version": "3.7.0"
  },
  "varInspector": {
   "cols": {
    "lenName": 16,
    "lenType": 16,
    "lenVar": 40
   },
   "kernels_config": {
    "python": {
     "delete_cmd_postfix": "",
     "delete_cmd_prefix": "del ",
     "library": "var_list.py",
     "varRefreshCmd": "print(var_dic_list())"
    },
    "r": {
     "delete_cmd_postfix": ") ",
     "delete_cmd_prefix": "rm(",
     "library": "var_list.r",
     "varRefreshCmd": "cat(var_dic_list()) "
    }
   },
   "types_to_exclude": [
    "module",
    "function",
    "builtin_function_or_method",
    "instance",
    "_Feature"
   ],
   "window_display": false
  }
 },
 "nbformat": 4,
 "nbformat_minor": 2
}
