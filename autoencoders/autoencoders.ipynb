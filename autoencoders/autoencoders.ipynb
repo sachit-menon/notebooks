{
 "cells": [
  {
   "cell_type": "markdown",
   "metadata": {},
   "source": [
    "# An Introduction to Autoencoders"
   ]
  },
  {
   "cell_type": "markdown",
   "metadata": {},
   "source": [
    "*This is one writeup in what I'm hoping to make a series of posts on representation learning and unsupervised methods in general. I've noticed that there are far fewer resources out there detailing these topics than there are for common supervised learning topics, and next-to-none that show them off in practice (i.e. with code) along with the underlying math. I'd like these posts to be accessible to a wider audience while still providing mathematical intuition.*"
   ]
  },
  {
   "cell_type": "markdown",
   "metadata": {},
   "source": [
    "## Part 1: Motivation and Introduction\n",
    "*What is an autoencoder and why should I care?*\n",
    "\n",
    "The core concept underlying all autoencoders is deceptively simple. Let's break it down from the name instead of memorizing it as just another term. The word 'autoencoder' is made up of 'auto,' meaning self, and 'encoder,' meaning something that transforms information in one form (or code) to another. An autoencoder is a neural network that takes in data, transforms it, and tries to output the same data that it was given. \n",
    "\n",
    "Cool. We now know what an autoencoder is. Article over, right? Well, not quite.\n",
    "\n",
    "Our definition as it currently stands makes sense, but seems rather... useless. Why go through the trouble of training a neural network to get an imperfect approximation of the identity function when we could just return our input data? The answer is that we don't really care about the output of our network itself; in fact, when using autoencoders, we never even expect it to perfectly output the data we gave it as input. What's of importance to us is the _transformation_ step. All autoencoders \n",
    "possess some transformed intermediate state of the data between the input and output, called the **code**. The part of the autoencoder that outputs the code is unsurprisingly referred to as the **encoder**, while the remainder (which tries to reconstruct the input from the code) is perhaps even more unsurprisingly dubbed the **decoder**. "
   ]
  },
  {
   "cell_type": "markdown",
   "metadata": {},
   "source": [
    "![title](diagrams/undercomplete_ae.png)\n",
    "**An illustration of an autoencoder.** Our input data $\\boldsymbol x$ is fed into the encoder function $f$ to create the code; the code is in turn fed into the decoder $\\boldsymbol g$ to obtain the output, which we will compare to our input. (In particular, this is visually closest to an _undercomplete_ autoencoder, described in the next section."
   ]
  },
  {
   "cell_type": "markdown",
   "metadata": {},
   "source": [
    "As things currently stand, however, this 'code' doesn't seem particularly useful either. One can easily imagine a neural network with enough capacity being perfectly happy to create some arbitrary approximately invertible function as the encoder and its inverse as the decoder, changing both in tandem to get the identity function as their composite. But the key to (useful) autoencoders is that we aren't going to let our network learn the identity function alone; we're instead going to bully it into learning a code with properties we'd like to have in a(n approximately invertible) transformation of our data at the expense of being able to perfectly reconstruct the input.\n",
    "\n",
    "Thus, autoencoders are an extremely powerful framework for _representation learning_. Once we come up with properties we'd like to have in a representation of our data, we can try and constrain our network to learn a code with those properties. "
   ]
  },
  {
   "cell_type": "markdown",
   "metadata": {},
   "source": [
    "## Part 2:  Undercomplete Autoencoders\n",
    "\n",
    "Now that we have this framework in mind, let's think of properties we might like a representation to have. Oftentimes, the data we are working with is high-dimensional in nature. In order to avoid the curse of dimensionality or to extract semantically meaningful features, we might want some low-dimensional representation of our high-dimensional data -- hence the existence of a whole host of dimensionality reduction techniques in the literature, most well-known being by way of principal components analysis (PCA). (This was actually the original motivation behind the autoencoder, and can be considered the most 'vanilla' flavor of them.) \n",
    "\n",
    "Thus, we bottleneck the number of dimensions in our network at the code to be lower than the number of dimensions in the input data. We then structure our decoder as a function from the lower number of dimensions to the original number to bring it back up.\n",
    "\n",
    "Let's see what that looks like in code instead of words! For our first autoencoder, we'll use simple linear transformations for encoding and decoding so we can reason about what's going on intuitively, but keep in mind the main power behind autoencoders comes from their use of neural networks (i.e. incredibly versatile function approximators) for both steps."
   ]
  },
  {
   "cell_type": "code",
   "execution_count": 1,
   "metadata": {},
   "outputs": [],
   "source": [
    "# imports\n",
    "import numpy as np\n",
    "\n",
    "%matplotlib inline\n",
    "import matplotlib.pyplot as plt\n",
    "import seaborn as sns\n",
    "sns.set(style='whitegrid')\n",
    "\n",
    "import torch\n",
    "from torch import nn\n",
    "import torch.nn.functional as F\n",
    "import torch.optim as optim\n",
    "from torchvision import datasets, transforms\n",
    "\n",
    "torch.manual_seed(42); # set seed for consistent results"
   ]
  },
  {
   "cell_type": "markdown",
   "metadata": {},
   "source": [
    "We first must define how many dimensions we want the code to be. This is highly dependent on the number of dimensions in the input -- there is no magic number you can always pick that will give you the results you want! (It also depends on what you plan on using the code for; but these are considerations for downstream tasks.) "
   ]
  },
  {
   "cell_type": "code",
   "execution_count": 2,
   "metadata": {},
   "outputs": [],
   "source": [
    "input_dimensions = 784\n",
    "code_dimensions = 32"
   ]
  },
  {
   "cell_type": "markdown",
   "metadata": {},
   "source": [
    "We're going to define classes for the encoder and decoder networks. This might seem redundant with our small network now, but is good practice for making encoders and decoders with more complicated architectures than a single linear layer."
   ]
  },
  {
   "cell_type": "code",
   "execution_count": 3,
   "metadata": {},
   "outputs": [],
   "source": [
    "class Encoder(nn.Module):\n",
    "    \"\"\"\n",
    "    Encoder class for linear autoencoder. Takes in data of dimension `input_dimensions`, \n",
    "    conducts a linear transformation, and outputs the resulting code of dimension `code_dimensions`.\n",
    "    \"\"\"\n",
    "    def __init__(self, input_dimensions: int, code_dimensions: int):\n",
    "        super(Encoder, self).__init__()\n",
    "        self.fc1 = nn.Linear(input_dimensions, code_dimensions, bias=False)\n",
    "    def forward(self, x: torch.Tensor):\n",
    "        return self.fc1(x)"
   ]
  },
  {
   "cell_type": "code",
   "execution_count": 4,
   "metadata": {},
   "outputs": [],
   "source": [
    "class Decoder(nn.Module):\n",
    "    \"\"\"\n",
    "    Decoder class for linear autoencoder. Takes in data of dimension `code_dimensions`, \n",
    "    conducts a linear transformation, and outputs the resulting output of dimension `input_dimensions`.\n",
    "    \"\"\"\n",
    "    def __init__(self, code_dimensions: int, input_dimensions: int):\n",
    "        super(Decoder, self).__init__()\n",
    "        self.fc1 = nn.Linear(code_dimensions, input_dimensions, bias=False)\n",
    "    def forward(self, x: torch.Tensor):\n",
    "        return self.fc1(x)"
   ]
  },
  {
   "cell_type": "markdown",
   "metadata": {},
   "source": [
    "Our full autoencoder is then the encoder followed by the decoder."
   ]
  },
  {
   "cell_type": "code",
   "execution_count": 5,
   "metadata": {},
   "outputs": [],
   "source": [
    "class LinearAutoencoder(nn.Module):\n",
    "    \"\"\"\n",
    "    Class for linear autoencoder. Composite of Encoder and Decoder classes above.\n",
    "    \"\"\"\n",
    "    def __init__(self, input_dimensions: int, code_dimensions: int):\n",
    "        super(LinearAutoencoder, self).__init__()\n",
    "        self.encode = Encoder(input_dimensions, code_dimensions)\n",
    "        self.decode = Decoder(code_dimensions, input_dimensions)\n",
    "    def forward(self, x: torch.Tensor):\n",
    "        x = self.encode(x) # from input_dimensions->code_dimensions...\n",
    "        x = self.decode(x) # and back from code_dimensions->input_dimensions\n",
    "        return x"
   ]
  },
  {
   "cell_type": "markdown",
   "metadata": {},
   "source": [
    "Now we have some general setup to do before we can get training, but this is somewhat usecase-specific and not that important to understanding autoencoders conceptually."
   ]
  },
  {
   "cell_type": "code",
   "execution_count": 6,
   "metadata": {},
   "outputs": [],
   "source": [
    "device = torch.device('cuda') if torch.cuda.is_available() else torch.device('cpu')"
   ]
  },
  {
   "cell_type": "code",
   "execution_count": 7,
   "metadata": {},
   "outputs": [],
   "source": [
    "# some hyperparameters\n",
    "batch_sz = 32\n",
    "test_batch_sz = 100\n",
    "\n",
    "learning_rate = 10**(-1.5)\n",
    "momentum = 0.5\n",
    "\n",
    "n_epochs = 20"
   ]
  },
  {
   "cell_type": "code",
   "execution_count": 8,
   "metadata": {},
   "outputs": [],
   "source": [
    "# set dataloader kwargs\n",
    "kwargs = {'num_workers': 1, 'pin_memory':True} if torch.cuda.is_available() else {}"
   ]
  },
  {
   "cell_type": "code",
   "execution_count": 9,
   "metadata": {},
   "outputs": [],
   "source": [
    "# preprocessing\n",
    "img_transform = transforms.Compose([\n",
    "    transforms.ToTensor(),\n",
    "    transforms.Normalize((0.5, 0.5, 0.5), (0.5, 0.5, 0.5))\n",
    "])"
   ]
  },
  {
   "cell_type": "code",
   "execution_count": 10,
   "metadata": {},
   "outputs": [],
   "source": [
    "# create dataloaders to serve up MNIST images as example data -- see MNIST example in the official documentation \n",
    "train_loader = torch.utils.data.DataLoader(\n",
    "    datasets.MNIST('../data', train=True, download=True, transform= img_transform),\n",
    "    batch_size=batch_sz,\n",
    "    shuffle=True,\n",
    "    **kwargs\n",
    ")"
   ]
  },
  {
   "cell_type": "code",
   "execution_count": 11,
   "metadata": {},
   "outputs": [],
   "source": [
    "test_loader = torch.utils.data.DataLoader(\n",
    "    datasets.MNIST('../data', train=False, download=True, transform=img_transform),\n",
    "    batch_size=test_batch_sz,\n",
    "    shuffle=True,\n",
    "    **kwargs\n",
    ")"
   ]
  },
  {
   "cell_type": "markdown",
   "metadata": {},
   "source": [
    "We'll set up our model and use stochastic gradient descent with momentum as our optimizer (simplicity is always best when complexity isn't necessary!)."
   ]
  },
  {
   "cell_type": "code",
   "execution_count": 12,
   "metadata": {},
   "outputs": [],
   "source": [
    "model = LinearAutoencoder(input_dimensions, code_dimensions).to(device)\n",
    "optimizer = optim.SGD(model.parameters(), lr=learning_rate, momentum=momentum)"
   ]
  },
  {
   "cell_type": "code",
   "execution_count": 13,
   "metadata": {},
   "outputs": [],
   "source": [
    "def train(model: nn.Module, optimizer: torch.optim.Optimizer, device: torch.device, \n",
    "          train_loader: torch.utils.data.dataloader.DataLoader, epoch: int):\n",
    "    \"\"\"\n",
    "    Executes one epoch of training given a model, optimizer, device, dataloader, and epoch number.\n",
    "    \"\"\"\n",
    "    model.train()\n",
    "    for batch_idx, (inp, label) in enumerate(train_loader):\n",
    "        inp = inp.view(-1, input_dimensions)\n",
    "        inp = inp.to(device) \n",
    "        output = model(inp) # here we put the input image through the autoencoder\n",
    "        loss = F.mse_loss(output, inp) # then compare output to input via mean-square-error\n",
    "        \n",
    "        # good to check that our values are still sane and nothing has gone horribly wrong\n",
    "        if torch.isnan(loss).any() or loss.item() == np.inf or loss.item() == -np.inf:\n",
    "            print('Gradient vanished/exploded')\n",
    "            raise Exception('Died')\n",
    "            break\n",
    "        \n",
    "        loss.backward() # compute gradients\n",
    "        optimizer.step() # conduct step of gradient descent\n",
    "        optimizer.zero_grad() # zero out gradients to avoid messing with future iterations\n",
    "        \n",
    "        if batch_idx % 1000 == 0:\n",
    "            print('Train Epoch: {} [{}/{} ({:.0f}%)]\\tLoss: {:.6f}'.format(\n",
    "                epoch, batch_idx * len(inp), len(train_loader.dataset),\n",
    "                100. * batch_idx / len(train_loader), loss.item()))"
   ]
  },
  {
   "cell_type": "code",
   "execution_count": 14,
   "metadata": {},
   "outputs": [],
   "source": [
    "def test(model: nn.Module, device: torch.device, test_loader: torch.utils.data.dataloader.DataLoader, epoch: int):\n",
    "    \"\"\"\n",
    "    Computes error on test set given a model, device, dataloader, and epoch number.\n",
    "    \"\"\"\n",
    "    model.eval()\n",
    "    test_loss = 0\n",
    "    with torch.no_grad():\n",
    "        for batch_idx, (inp, label) in enumerate(test_loader):\n",
    "            inp = inp.view(-1, input_dimensions)\n",
    "            inp = inp.to(device)\n",
    "            output = model(inp)\n",
    "            test_loss += F.mse_loss(output, inp)\n",
    "    \n",
    "    test_loss /= len(test_loader.dataset)\n",
    "    print('\\nTest set: Average loss: {:.4f}\\n'.format(test_loss))"
   ]
  },
  {
   "cell_type": "markdown",
   "metadata": {},
   "source": [
    "All that's left is to train our model and see the results!"
   ]
  },
  {
   "cell_type": "code",
   "execution_count": 15,
   "metadata": {
    "scrolled": true
   },
   "outputs": [
    {
     "name": "stdout",
     "output_type": "stream",
     "text": [
      "Train Epoch: 1 [0/60000 (0%)]\tLoss: 1.000938\n",
      "Train Epoch: 1 [32000/60000 (53%)]\tLoss: 0.257497\n",
      "\n",
      "Test set: Average loss: 0.0025\n",
      "\n",
      "Train Epoch: 2 [0/60000 (0%)]\tLoss: 0.244470\n",
      "Train Epoch: 2 [32000/60000 (53%)]\tLoss: 0.238129\n",
      "\n",
      "Test set: Average loss: 0.0024\n",
      "\n",
      "Train Epoch: 3 [0/60000 (0%)]\tLoss: 0.222586\n",
      "Train Epoch: 3 [32000/60000 (53%)]\tLoss: 0.237073\n",
      "\n",
      "Test set: Average loss: 0.0021\n",
      "\n",
      "Train Epoch: 4 [0/60000 (0%)]\tLoss: 0.208160\n",
      "Train Epoch: 4 [32000/60000 (53%)]\tLoss: 0.203348\n",
      "\n",
      "Test set: Average loss: 0.0019\n",
      "\n",
      "Train Epoch: 5 [0/60000 (0%)]\tLoss: 0.197845\n",
      "Train Epoch: 5 [32000/60000 (53%)]\tLoss: 0.175188\n",
      "\n",
      "Test set: Average loss: 0.0017\n",
      "\n",
      "Train Epoch: 6 [0/60000 (0%)]\tLoss: 0.181806\n",
      "Train Epoch: 6 [32000/60000 (53%)]\tLoss: 0.155630\n",
      "\n",
      "Test set: Average loss: 0.0016\n",
      "\n",
      "Train Epoch: 7 [0/60000 (0%)]\tLoss: 0.153001\n",
      "Train Epoch: 7 [32000/60000 (53%)]\tLoss: 0.155533\n",
      "\n",
      "Test set: Average loss: 0.0015\n",
      "\n",
      "Train Epoch: 8 [0/60000 (0%)]\tLoss: 0.154720\n",
      "Train Epoch: 8 [32000/60000 (53%)]\tLoss: 0.156239\n",
      "\n",
      "Test set: Average loss: 0.0014\n",
      "\n",
      "Train Epoch: 9 [0/60000 (0%)]\tLoss: 0.143948\n",
      "Train Epoch: 9 [32000/60000 (53%)]\tLoss: 0.147039\n",
      "\n",
      "Test set: Average loss: 0.0014\n",
      "\n",
      "Train Epoch: 10 [0/60000 (0%)]\tLoss: 0.139918\n",
      "Train Epoch: 10 [32000/60000 (53%)]\tLoss: 0.135999\n",
      "\n",
      "Test set: Average loss: 0.0013\n",
      "\n",
      "Train Epoch: 11 [0/60000 (0%)]\tLoss: 0.141453\n",
      "Train Epoch: 11 [32000/60000 (53%)]\tLoss: 0.126618\n",
      "\n",
      "Test set: Average loss: 0.0013\n",
      "\n",
      "Train Epoch: 12 [0/60000 (0%)]\tLoss: 0.126350\n",
      "Train Epoch: 12 [32000/60000 (53%)]\tLoss: 0.123183\n",
      "\n",
      "Test set: Average loss: 0.0012\n",
      "\n",
      "Train Epoch: 13 [0/60000 (0%)]\tLoss: 0.118564\n",
      "Train Epoch: 13 [32000/60000 (53%)]\tLoss: 0.123543\n",
      "\n",
      "Test set: Average loss: 0.0012\n",
      "\n",
      "Train Epoch: 14 [0/60000 (0%)]\tLoss: 0.122253\n",
      "Train Epoch: 14 [32000/60000 (53%)]\tLoss: 0.125982\n",
      "\n",
      "Test set: Average loss: 0.0012\n",
      "\n",
      "Train Epoch: 15 [0/60000 (0%)]\tLoss: 0.118890\n",
      "Train Epoch: 15 [32000/60000 (53%)]\tLoss: 0.116815\n",
      "\n",
      "Test set: Average loss: 0.0011\n",
      "\n",
      "Train Epoch: 16 [0/60000 (0%)]\tLoss: 0.119878\n",
      "Train Epoch: 16 [32000/60000 (53%)]\tLoss: 0.110570\n",
      "\n",
      "Test set: Average loss: 0.0011\n",
      "\n",
      "Train Epoch: 17 [0/60000 (0%)]\tLoss: 0.111909\n",
      "Train Epoch: 17 [32000/60000 (53%)]\tLoss: 0.108714\n",
      "\n",
      "Test set: Average loss: 0.0011\n",
      "\n",
      "Train Epoch: 18 [0/60000 (0%)]\tLoss: 0.112195\n",
      "Train Epoch: 18 [32000/60000 (53%)]\tLoss: 0.105414\n",
      "\n",
      "Test set: Average loss: 0.0011\n",
      "\n",
      "Train Epoch: 19 [0/60000 (0%)]\tLoss: 0.116659\n",
      "Train Epoch: 19 [32000/60000 (53%)]\tLoss: 0.110422\n",
      "\n",
      "Test set: Average loss: 0.0010\n",
      "\n",
      "Train Epoch: 20 [0/60000 (0%)]\tLoss: 0.109862\n",
      "Train Epoch: 20 [32000/60000 (53%)]\tLoss: 0.086314\n",
      "\n",
      "Test set: Average loss: 0.0010\n",
      "\n"
     ]
    }
   ],
   "source": [
    "for epoch in range(1, n_epochs+1):\n",
    "    train(model, optimizer, device, train_loader, epoch)\n",
    "    test(model, device, test_loader, epoch)"
   ]
  },
  {
   "cell_type": "markdown",
   "metadata": {},
   "source": [
    "We ended up with a test MSE of 0.001. Is this good? Well, as far as the quality of the reconstruction goes, it seems pretty decent in some handwavey sense considering our values range from 0 to 1. But humans are visual creatures: best way to see how it's doing is to actually see it!"
   ]
  },
  {
   "cell_type": "code",
   "execution_count": 16,
   "metadata": {},
   "outputs": [],
   "source": [
    "# function to un-normalize the output of the network to make it look like the original images\n",
    "def to_img(x: torch.Tensor):\n",
    "    x = 0.5 * (x + 1)\n",
    "    x = x.clamp(0, 1)\n",
    "    x = x.view(x.size(0), 1, 28, 28)\n",
    "    return x"
   ]
  },
  {
   "cell_type": "code",
   "execution_count": 17,
   "metadata": {},
   "outputs": [],
   "source": [
    "# get an example batch and push it through the network\n",
    "with torch.no_grad():\n",
    "    x = next(iter(test_loader))[0].to(device)\n",
    "    x = x.view(-1,input_dimensions)\n",
    "    y = model(x)\n",
    "    y = to_img(y)"
   ]
  },
  {
   "cell_type": "raw",
   "metadata": {},
   "source": [
    "plt.imshow((model.encode.fc1.weight.t() @ model.decode.fc1.weight.t()).detach().cpu().numpy().T, cmap='Greys_r')"
   ]
  },
  {
   "cell_type": "raw",
   "metadata": {},
   "source": [
    "plt.imshow(model.encode.fc1.weight.detach().cpu().numpy() @ model.decode.fc1.weight.detach().cpu().numpy(), cmap='Greys_r')"
   ]
  },
  {
   "cell_type": "markdown",
   "metadata": {},
   "source": [
    "Displaying our example and its corresponding output,"
   ]
  },
  {
   "cell_type": "code",
   "execution_count": 18,
   "metadata": {},
   "outputs": [
    {
     "data": {
      "text/plain": [
       "<matplotlib.image.AxesImage at 0x7fcf51695da0>"
      ]
     },
     "execution_count": 18,
     "metadata": {},
     "output_type": "execute_result"
    },
    {
     "data": {
      "image/png": "[encoded data removed]",
      "text/plain": [
       "<Figure size 432x288 with 1 Axes>"
      ]
     },
     "metadata": {},
     "output_type": "display_data"
    }
   ],
   "source": [
    "plt.imshow(x[0].view(28,28).cpu().numpy(), cmap='Greys_r')"
   ]
  },
  {
   "cell_type": "code",
   "execution_count": 19,
   "metadata": {},
   "outputs": [
    {
     "data": {
      "text/plain": [
       "<matplotlib.image.AxesImage at 0x7fcf517486a0>"
      ]
     },
     "execution_count": 19,
     "metadata": {},
     "output_type": "execute_result"
    },
    {
     "data": {
      "image/png": "[encoded data removed]",
      "text/plain": [
       "<Figure size 432x288 with 1 Axes>"
      ]
     },
     "metadata": {},
     "output_type": "display_data"
    }
   ],
   "source": [
    "plt.imshow(y[0].view(28,28).cpu().numpy(), cmap='Greys_r')"
   ]
  },
  {
   "cell_type": "markdown",
   "metadata": {},
   "source": [
    "with the (uninterpretable) 32-dimensional code as"
   ]
  },
  {
   "cell_type": "code",
   "execution_count": 20,
   "metadata": {},
   "outputs": [
    {
     "data": {
      "text/plain": [
       "array([ 1.2461367 ,  0.7578721 , -0.80333775,  0.17708406,  2.0784078 ,\n",
       "       -1.2867155 ,  0.459029  , -2.3941464 ,  0.10984115,  0.59566885,\n",
       "       -1.8090788 , -2.0377617 , -2.190893  ,  0.2924345 , -0.20564324,\n",
       "        0.10396053, -3.552227  , -1.2485214 , -0.8760196 , -1.0671576 ,\n",
       "       -3.8653336 , -0.44916114,  1.0365984 ,  1.1902565 , -0.1348641 ,\n",
       "        0.2300794 ,  0.6650476 , -1.5262647 ,  3.0209737 ,  0.59753466,\n",
       "        0.12191479, -3.11799   ], dtype=float32)"
      ]
     },
     "execution_count": 20,
     "metadata": {},
     "output_type": "execute_result"
    }
   ],
   "source": [
    "model.encode(x)[0].detach().cpu().numpy()"
   ]
  },
  {
   "cell_type": "markdown",
   "metadata": {},
   "source": [
    "We can see that the output still is very clearly a 1, but is not quite the same as what we put in. This should make sense to us as we did essentially did some lossy compression by a factor of 24.5x -- definitely non-negligible! The autoencoder learned what combinations of the input dimensions it could make in 32 dimensions to best squeeze as much information in as possible to be able to reconstruct the input. "
   ]
  },
  {
   "cell_type": "markdown",
   "metadata": {},
   "source": [
    "## Part 3: Conclusion\n",
    "\n",
    "In this post, we took a look at the inner workings of the simplest variety of autoencoder, the undercomplete autoencoder; that is, a neural network that maps its input to itself with an intermediate layer of fewer dimensions. But this is just the beginning! More importantly, we introduced the autoencoder as a framework for representation learning given how we apply constraints. In the future, we'll see how this can be used for things other than dimension reduction."
   ]
  },
  {
   "cell_type": "markdown",
   "metadata": {},
   "source": [
    "### Postscript"
   ]
  },
  {
   "cell_type": "markdown",
   "metadata": {},
   "source": [
    "P.S. In this case, we only allowed its combinations to be linear by construction of our encoder and decoder. As a fun note, this should feel very familiar to the linear algebra types out there: what we have is a special case of autoencoder construction that's equivalent to principal components analysis (PCA). Given our data is mean-centered here, this just means our network is learning to project into the subspace of the eigenspace spanned by the first $32$ eigenvectors (ordered by 'importance'/magnitude of eigenvalue). An brief, handwavey outline of why this is the case: PCA can be thought of as trying finding the subspace we can project into that minimizes reconstruction error of how far our projections are from the original points; this is what a linear autoencoder is also doing."
   ]
  },
  {
   "cell_type": "code",
   "execution_count": null,
   "metadata": {},
   "outputs": [],
   "source": []
  }
 ],
 "metadata": {
  "kernelspec": {
   "display_name": "Python 3",
   "language": "python",
   "name": "python3"
  },
  "language_info": {
   "codemirror_mode": {
    "name": "ipython",
    "version": 3
   },
   "file_extension": ".py",
   "mimetype": "text/x-python",
   "name": "python",
   "nbconvert_exporter": "python",
   "pygments_lexer": "ipython3",
   "version": "3.7.0"
  },
  "varInspector": {
   "cols": {
    "lenName": 16,
    "lenType": 16,
    "lenVar": 40
   },
   "kernels_config": {
    "python": {
     "delete_cmd_postfix": "",
     "delete_cmd_prefix": "del ",
     "library": "var_list.py",
     "varRefreshCmd": "print(var_dic_list())"
    },
    "r": {
     "delete_cmd_postfix": ") ",
     "delete_cmd_prefix": "rm(",
     "library": "var_list.r",
     "varRefreshCmd": "cat(var_dic_list()) "
    }
   },
   "types_to_exclude": [
    "module",
    "function",
    "builtin_function_or_method",
    "instance",
    "_Feature"
   ],
   "window_display": false
  }
 },
 "nbformat": 4,
 "nbformat_minor": 2
}
